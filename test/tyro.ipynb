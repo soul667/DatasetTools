{
 "cells": [
  {
   "cell_type": "code",
   "execution_count": null,
   "id": "ebbc9091",
   "metadata": {},
   "outputs": [],
   "source": [
    "# 测试命令行参数读取\n",
    "from dataclasses import dataclass\n",
    "import tyro\n",
    "\n",
    "dataclass \n",
    "class Config:\n",
    "    # 首先是我们输入任务json文件的path 可以根据这个找到子文件夹\n",
    "    json_path: str = \"E:/code/DatasetTools/agi_bot_world/agi_bot_world.json\"\n",
    "    # 其次是我们选取的jobid"
   ]
  }
 ],
 "metadata": {
  "kernelspec": {
   "display_name": "Python 3 (ipykernel)",
   "language": "python",
   "name": "python3"
  },
  "language_info": {
   "codemirror_mode": {
    "name": "ipython",
    "version": 3
   },
   "file_extension": ".py",
   "mimetype": "text/x-python",
   "name": "python",
   "nbconvert_exporter": "python",
   "pygments_lexer": "ipython3",
   "version": "3.10.16"
  }
 },
 "nbformat": 4,
 "nbformat_minor": 5
}
